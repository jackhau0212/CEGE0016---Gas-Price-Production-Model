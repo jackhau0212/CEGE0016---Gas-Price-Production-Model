{
 "cells": [
  {
   "cell_type": "code",
   "execution_count": 1,
   "id": "e4af41e4",
   "metadata": {},
   "outputs": [],
   "source": [
    "import numpy as np\n",
    "import pandas as pd\n",
    "from sklearn.linear_model import LinearRegression\n",
    "import matplotlib.pyplot as plt\n",
    "%matplotlib inline"
   ]
  },
  {
   "cell_type": "code",
   "execution_count": 2,
   "id": "9f0a2dc1",
   "metadata": {},
   "outputs": [],
   "source": [
    "historic_gas_data = pd.read_csv(\"data/gas-prices-day-ahead-con.csv\")\n",
    "\n",
    "historic_gas_data['Month'] = historic_gas_data.index"
   ]
  },
  {
   "cell_type": "code",
   "execution_count": 3,
   "id": "89bc25f5",
   "metadata": {},
   "outputs": [],
   "source": [
    "pre_rise_data = historic_gas_data[[\"Month\",'Price']][:147]"
   ]
  },
  {
   "cell_type": "code",
   "execution_count": 4,
   "id": "1d8ca836",
   "metadata": {},
   "outputs": [],
   "source": [
    "y = pre_rise_data['Price'].values\n",
    "x = pre_rise_data['Month'].values"
   ]
  },
  {
   "cell_type": "code",
   "execution_count": 5,
   "id": "6cfb6f57",
   "metadata": {},
   "outputs": [],
   "source": [
    "x = x.reshape(len(x), 1)\n",
    "y = y.reshape(len(y), 1)"
   ]
  },
  {
   "cell_type": "code",
   "execution_count": 6,
   "id": "7f1fa56d",
   "metadata": {},
   "outputs": [],
   "source": [
    "price_model = LinearRegression().fit(x,y)"
   ]
  },
  {
   "cell_type": "code",
   "execution_count": 7,
   "id": "39825211",
   "metadata": {},
   "outputs": [
    {
     "data": {
      "image/png": "[encoded data removed]",
      "text/plain": [
       "<Figure size 432x288 with 1 Axes>"
      ]
     },
     "metadata": {
      "needs_background": "light"
     },
     "output_type": "display_data"
    }
   ],
   "source": [
    "plt.plot(x, y, color = 'red', label='Actual Gas Price')\n",
    "plt.plot(x, price_model.predict(x), color = 'blue', label=\"Linear Regression Model\")\n",
    "plt.title(\"Linear Regression Model for Pre Russion-Ukraine War\")\n",
    "plt.legend()\n",
    "plt.xlabel('Month')\n",
    "plt.ylabel('Gas Price')\n",
    "plt.show()"
   ]
  },
  {
   "cell_type": "code",
   "execution_count": 23,
   "id": "4d0684ff",
   "metadata": {},
   "outputs": [],
   "source": [
    "t = np.array([x for x in range(157, 12*30+157)])\n",
    "t = t.reshape(len(t), 1)\n",
    "predicted_gas_price = price_model.predict(t)"
   ]
  },
  {
   "cell_type": "code",
   "execution_count": 28,
   "id": "780e3399",
   "metadata": {},
   "outputs": [],
   "source": [
    "total_gas_price = np.append(historic_gas_data['Price'].values.reshape(len(historic_gas_data['Price']), 1), predicted_gas_price)"
   ]
  },
  {
   "cell_type": "code",
   "execution_count": 29,
   "id": "9fd9806a",
   "metadata": {},
   "outputs": [
    {
     "data": {
      "text/plain": [
       "array([ 25.18      ,  26.99      ,  31.42      ,  39.77      ,\n",
       "        35.78      ,  32.14      ,  32.79      ,  39.49      ,\n",
       "        42.15      ,  45.94      ,  42.61      ,  40.77      ,\n",
       "        46.        ,  49.66      ,  62.26      ,  55.98      ,\n",
       "        53.74      ,  60.39      ,  57.23      ,  57.01      ,\n",
       "        58.25      ,  55.09      ,  54.06      ,  53.64      ,\n",
       "        56.05      ,  58.15      ,  56.04      ,  54.43      ,\n",
       "        65.41      ,  58.44      ,  59.94      ,  57.01      ,\n",
       "        55.15      ,  55.6       ,  54.53      ,  60.45      ,\n",
       "        64.35      ,  65.63      ,  65.5       ,  66.83      ,\n",
       "        68.88      ,  86.57      ,  69.98      ,  66.14      ,\n",
       "        60.47      ,  65.23      ,  64.65      ,  65.71      ,\n",
       "        65.08      ,  68.29      ,  69.35      ,  65.1       ,\n",
       "        58.86      ,  56.53      ,  49.89      ,  45.33      ,\n",
       "        39.5       ,  37.51      ,  40.61      ,  48.43      ,\n",
       "        50.42      ,  54.84      ,  53.62      ,  46.1       ,\n",
       "        50.47      ,  47.23      ,  46.86      ,  44.09      ,\n",
       "        43.37      ,  43.47      ,  39.69      ,  41.04      ,\n",
       "        39.56      ,  35.9       ,  34.03      ,  32.05      ,\n",
       "        29.66      ,  29.6       ,  29.44      ,  30.41      ,\n",
       "        34.2       ,  34.3       ,  30.36      ,  28.36      ,\n",
       "        42.83      ,  48.12      ,  46.53      ,  53.39      ,\n",
       "        51.01      ,  41.02      ,  39.73      ,  39.29      ,\n",
       "        34.84      ,  36.21      ,  42.57      ,  46.        ,\n",
       "        45.4       ,  52.95      ,  58.29      ,  50.44      ,\n",
       "        58.96      ,  64.3       ,  50.94      ,  55.58      ,\n",
       "        54.97      ,  57.93      ,  62.83      ,  73.72      ,\n",
       "        66.53      ,  64.37      ,  63.74      ,  57.71      ,\n",
       "        47.09      ,  39.31      ,  34.98      ,  31.43      ,\n",
       "        27.96      ,  29.6       ,  27.75      ,  24.87      ,\n",
       "        25.65      ,  38.04      ,  32.14      ,  27.9       ,\n",
       "        23.5       ,  22.92      ,  13.75      ,  11.59      ,\n",
       "        13.18      ,  13.24      ,  20.22      ,  29.9       ,\n",
       "        38.23      ,  37.57      ,  45.69      ,  59.01      ,\n",
       "        45.94      ,  44.96      ,  54.77      ,  65.2       ,\n",
       "        72.01      ,  90.88      , 110.04      , 162.1       ,\n",
       "       213.76      , 201.13      , 270.96      , 203.75      ,\n",
       "       187.72      , 313.57      , 186.13      , 105.31      ,\n",
       "       149.49      , 247.71      , 356.        , 263.44      ,\n",
       "       230.31      ,  61.70300398,  61.81394029,  61.9248766 ,\n",
       "        62.03581291,  62.14674923,  62.25768554,  62.36862185,\n",
       "        62.47955816,  62.59049448,  62.70143079,  62.8123671 ,\n",
       "        62.92330341,  63.03423972,  63.14517604,  63.25611235,\n",
       "        63.36704866,  63.47798497,  63.58892129,  63.6998576 ,\n",
       "        63.81079391,  63.92173022,  64.03266654,  64.14360285,\n",
       "        64.25453916,  64.36547547,  64.47641179,  64.5873481 ,\n",
       "        64.69828441,  64.80922072,  64.92015703,  65.03109335,\n",
       "        65.14202966,  65.25296597,  65.36390228,  65.4748386 ,\n",
       "        65.58577491,  65.69671122,  65.80764753,  65.91858385,\n",
       "        66.02952016,  66.14045647,  66.25139278,  66.36232909,\n",
       "        66.47326541,  66.58420172,  66.69513803,  66.80607434,\n",
       "        66.91701066,  67.02794697,  67.13888328,  67.24981959,\n",
       "        67.36075591,  67.47169222,  67.58262853,  67.69356484,\n",
       "        67.80450115,  67.91543747,  68.02637378,  68.13731009,\n",
       "        68.2482464 ,  68.35918272,  68.47011903,  68.58105534,\n",
       "        68.69199165,  68.80292797,  68.91386428,  69.02480059,\n",
       "        69.1357369 ,  69.24667322,  69.35760953,  69.46854584,\n",
       "        69.57948215,  69.69041846,  69.80135478,  69.91229109,\n",
       "        70.0232274 ,  70.13416371,  70.24510003,  70.35603634,\n",
       "        70.46697265,  70.57790896,  70.68884528,  70.79978159,\n",
       "        70.9107179 ,  71.02165421,  71.13259052,  71.24352684,\n",
       "        71.35446315,  71.46539946,  71.57633577,  71.68727209,\n",
       "        71.7982084 ,  71.90914471,  72.02008102,  72.13101734,\n",
       "        72.24195365,  72.35288996,  72.46382627,  72.57476258,\n",
       "        72.6856989 ,  72.79663521,  72.90757152,  73.01850783,\n",
       "        73.12944415,  73.24038046,  73.35131677,  73.46225308,\n",
       "        73.5731894 ,  73.68412571,  73.79506202,  73.90599833,\n",
       "        74.01693465,  74.12787096,  74.23880727,  74.34974358,\n",
       "        74.46067989,  74.57161621,  74.68255252,  74.79348883,\n",
       "        74.90442514,  75.01536146,  75.12629777,  75.23723408,\n",
       "        75.34817039,  75.45910671,  75.57004302,  75.68097933,\n",
       "        75.79191564,  75.90285195,  76.01378827,  76.12472458,\n",
       "        76.23566089,  76.3465972 ,  76.45753352,  76.56846983,\n",
       "        76.67940614,  76.79034245,  76.90127877,  77.01221508,\n",
       "        77.12315139,  77.2340877 ,  77.34502401,  77.45596033,\n",
       "        77.56689664,  77.67783295,  77.78876926,  77.89970558,\n",
       "        78.01064189,  78.1215782 ,  78.23251451,  78.34345083,\n",
       "        78.45438714,  78.56532345,  78.67625976,  78.78719608,\n",
       "        78.89813239,  79.0090687 ,  79.12000501,  79.23094132,\n",
       "        79.34187764,  79.45281395,  79.56375026,  79.67468657,\n",
       "        79.78562289,  79.8965592 ,  80.00749551,  80.11843182,\n",
       "        80.22936814,  80.34030445,  80.45124076,  80.56217707,\n",
       "        80.67311338,  80.7840497 ,  80.89498601,  81.00592232,\n",
       "        81.11685863,  81.22779495,  81.33873126,  81.44966757,\n",
       "        81.56060388,  81.6715402 ,  81.78247651,  81.89341282,\n",
       "        82.00434913,  82.11528544,  82.22622176,  82.33715807,\n",
       "        82.44809438,  82.55903069,  82.66996701,  82.78090332,\n",
       "        82.89183963,  83.00277594,  83.11371226,  83.22464857,\n",
       "        83.33558488,  83.44652119,  83.55745751,  83.66839382,\n",
       "        83.77933013,  83.89026644,  84.00120275,  84.11213907,\n",
       "        84.22307538,  84.33401169,  84.444948  ,  84.55588432,\n",
       "        84.66682063,  84.77775694,  84.88869325,  84.99962957,\n",
       "        85.11056588,  85.22150219,  85.3324385 ,  85.44337481,\n",
       "        85.55431113,  85.66524744,  85.77618375,  85.88712006,\n",
       "        85.99805638,  86.10899269,  86.219929  ,  86.33086531,\n",
       "        86.44180163,  86.55273794,  86.66367425,  86.77461056,\n",
       "        86.88554687,  86.99648319,  87.1074195 ,  87.21835581,\n",
       "        87.32929212,  87.44022844,  87.55116475,  87.66210106,\n",
       "        87.77303737,  87.88397369,  87.99491   ,  88.10584631,\n",
       "        88.21678262,  88.32771894,  88.43865525,  88.54959156,\n",
       "        88.66052787,  88.77146418,  88.8824005 ,  88.99333681,\n",
       "        89.10427312,  89.21520943,  89.32614575,  89.43708206,\n",
       "        89.54801837,  89.65895468,  89.769891  ,  89.88082731,\n",
       "        89.99176362,  90.10269993,  90.21363624,  90.32457256,\n",
       "        90.43550887,  90.54644518,  90.65738149,  90.76831781,\n",
       "        90.87925412,  90.99019043,  91.10112674,  91.21206306,\n",
       "        91.32299937,  91.43393568,  91.54487199,  91.6558083 ,\n",
       "        91.76674462,  91.87768093,  91.98861724,  92.09955355,\n",
       "        92.21048987,  92.32142618,  92.43236249,  92.5432988 ,\n",
       "        92.65423512,  92.76517143,  92.87610774,  92.98704405,\n",
       "        93.09798037,  93.20891668,  93.31985299,  93.4307893 ,\n",
       "        93.54172561,  93.65266193,  93.76359824,  93.87453455,\n",
       "        93.98547086,  94.09640718,  94.20734349,  94.3182798 ,\n",
       "        94.42921611,  94.54015243,  94.65108874,  94.76202505,\n",
       "        94.87296136,  94.98389767,  95.09483399,  95.2057703 ,\n",
       "        95.31670661,  95.42764292,  95.53857924,  95.64951555,\n",
       "        95.76045186,  95.87138817,  95.98232449,  96.0932608 ,\n",
       "        96.20419711,  96.31513342,  96.42606973,  96.53700605,\n",
       "        96.64794236,  96.75887867,  96.86981498,  96.9807513 ,\n",
       "        97.09168761,  97.20262392,  97.31356023,  97.42449655,\n",
       "        97.53543286,  97.64636917,  97.75730548,  97.8682418 ,\n",
       "        97.97917811,  98.09011442,  98.20105073,  98.31198704,\n",
       "        98.42292336,  98.53385967,  98.64479598,  98.75573229,\n",
       "        98.86666861,  98.97760492,  99.08854123,  99.19947754,\n",
       "        99.31041386,  99.42135017,  99.53228648,  99.64322279,\n",
       "        99.7541591 ,  99.86509542,  99.97603173, 100.08696804,\n",
       "       100.19790435, 100.30884067, 100.41977698, 100.53071329,\n",
       "       100.6416496 , 100.75258592, 100.86352223, 100.97445854,\n",
       "       101.08539485, 101.19633116, 101.30726748, 101.41820379,\n",
       "       101.5291401 ])"
      ]
     },
     "execution_count": 29,
     "metadata": {},
     "output_type": "execute_result"
    }
   ],
   "source": [
    "total_gas_price"
   ]
  },
  {
   "cell_type": "code",
   "execution_count": 30,
   "id": "b3f8d8cc",
   "metadata": {},
   "outputs": [
    {
     "data": {
      "image/png": "[encoded data removed]",
      "text/plain": [
       "<Figure size 432x288 with 1 Axes>"
      ]
     },
     "metadata": {
      "needs_background": "light"
     },
     "output_type": "display_data"
    }
   ],
   "source": [
    "plt.plot(np.array([x for x in range(0, 12*30+157)]), total_gas_price, color = 'black')\n",
    "plt.show()"
   ]
  },
  {
   "cell_type": "code",
   "execution_count": null,
   "id": "582f4ba0",
   "metadata": {},
   "outputs": [],
   "source": []
  }
 ],
 "metadata": {
  "kernelspec": {
   "display_name": "Python 3 (ipykernel)",
   "language": "python",
   "name": "python3"
  },
  "language_info": {
   "codemirror_mode": {
    "name": "ipython",
    "version": 3
   },
   "file_extension": ".py",
   "mimetype": "text/x-python",
   "name": "python",
   "nbconvert_exporter": "python",
   "pygments_lexer": "ipython3",
   "version": "3.9.7"
  }
 },
 "nbformat": 4,
 "nbformat_minor": 5
}
